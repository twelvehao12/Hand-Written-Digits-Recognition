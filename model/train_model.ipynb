{
    "cells": [
        {
            "cell_type": "code",
            "execution_count": 2,
            "metadata": {},
            "outputs": [],
            "source": [
                "import numpy as np\n",
                "import torch\n",
                "import torch.nn as nn\n",
                "from torch.autograd import Variable\n",
                "from torch.utils.data import DataLoader\n",
                "from torchvision import models\n",
                "from torchvision import transforms as tfs\n",
                "from torchvision.datasets import mnist\n",
                "\n",
                "import os\n",
                "import matplotlib.pyplot as plt"
            ]
        },
        {
            "attachments": {},
            "cell_type": "markdown",
            "metadata": {},
            "source": [
                "### train"
            ]
        },
        {
            "cell_type": "code",
            "execution_count": 3,
            "metadata": {},
            "outputs": [],
            "source": [
                "train_tf = tfs.Compose([\n",
                "    tfs.Resize((28, 28)), \n",
                "    tfs.RandomInvert(0.7),\n",
                "    tfs.ToTensor(), \n",
                "])\n",
                "\n",
                "test_tf = tfs.Compose([\n",
                "    tfs.Resize((28, 28)), \n",
                "    tfs.ToTensor(), \n",
                "])\n",
                "\n",
                "train_set = mnist.MNIST('./train_data/', train=True, transform=train_tf, download=True)\n",
                "test_set = mnist.MNIST('./train_data/', train=False, transform=test_tf, download=True)\n",
                "\n",
                "train_data = DataLoader(train_set, batch_size=64, shuffle=True)\n",
                "test_data = DataLoader(test_set, batch_size=64, shuffle=False)"
            ]
        },
        {
            "cell_type": "code",
            "execution_count": 4,
            "metadata": {},
            "outputs": [],
            "source": [
                "# net = models.resnet18(weights=models.ResNet18_Weights.DEFAULT)\n",
                "net = models.resnet18()\n",
                "net.conv1 = nn.Conv2d(1, 64, kernel_size=(7, 7), stride=(2, 2), padding=(3, 3), bias=False)\n",
                "net.fc = nn.Linear(in_features=512, out_features=10, bias=True)"
            ]
        },
        {
            "cell_type": "code",
            "execution_count": 4,
            "metadata": {},
            "outputs": [
                {
                    "name": "stdout",
                    "output_type": "stream",
                    "text": [
                        "Epoch 0. Train Loss: 1.070973, Train Acc: 0.697595, Valid Loss: 0.667049, Valid Acc: 0.835788, Time 00:00:20\n",
                        "Epoch 1. Train Loss: 0.379887, Train Acc: 0.900903, Valid Loss: 0.351396, Valid Acc: 0.909733, Time 00:00:19\n",
                        "Epoch 2. Train Loss: 0.255339, Train Acc: 0.928621, Valid Loss: 0.246837, Valid Acc: 0.931230, Time 00:00:19\n",
                        "Epoch 3. Train Loss: 0.196541, Train Acc: 0.944813, Valid Loss: 0.195542, Valid Acc: 0.943173, Time 00:00:19\n",
                        "Epoch 4. Train Loss: 0.165750, Train Acc: 0.952126, Valid Loss: 0.170635, Valid Acc: 0.951234, Time 00:00:19\n",
                        "Epoch 5. Train Loss: 0.141853, Train Acc: 0.958572, Valid Loss: 0.148904, Valid Acc: 0.955713, Time 00:00:19\n",
                        "Epoch 6. Train Loss: 0.126811, Train Acc: 0.963370, Valid Loss: 0.138604, Valid Acc: 0.959693, Time 00:00:18\n",
                        "Epoch 7. Train Loss: 0.115219, Train Acc: 0.966435, Valid Loss: 0.128502, Valid Acc: 0.960291, Time 00:00:19\n",
                        "Epoch 8. Train Loss: 0.106644, Train Acc: 0.968334, Valid Loss: 0.118536, Valid Acc: 0.964072, Time 00:00:19\n",
                        "Epoch 9. Train Loss: 0.096504, Train Acc: 0.971748, Valid Loss: 0.111718, Valid Acc: 0.965565, Time 00:00:19\n"
                    ]
                }
            ],
            "source": [
                "optimizer = torch.optim.SGD(net.parameters(), lr=5e-4, weight_decay=1e-3)\n",
                "criterion = nn.CrossEntropyLoss()\n",
                "\n",
                "from utils import train\n",
                "train(net, train_data, test_data, 10, optimizer, criterion)"
            ]
        },
        {
            "attachments": {},
            "cell_type": "markdown",
            "metadata": {},
            "source": [
                "### valid"
            ]
        },
        {
            "cell_type": "code",
            "execution_count": 5,
            "metadata": {},
            "outputs": [
                {
                    "name": "stdout",
                    "output_type": "stream",
                    "text": [
                        "torch.Size([1, 1, 28, 28])\n",
                        "tensor(2)\n",
                        "tensor([2], device='cuda:0')\n",
                        "[2]\n"
                    ]
                }
            ],
            "source": [
                "pic, label = next(iter(test_data))\n",
                "pic = pic[1].unsqueeze(0)\n",
                "label = label[1]\n",
                "print(pic.shape)\n",
                "print(label)\n",
                "\n",
                "net.eval()\n",
                "pic = pic.cuda()\n",
                "pred = net(pic)\n",
                "pred_torch = torch.argmax(pred, dim=1)\n",
                "print(pred_torch)\n",
                "\n",
                "pred_np = pred.cpu().detach().numpy()\n",
                "pred_np = np.argmax(pred_np, axis=1)\n",
                "print(pred_np)\n"
            ]
        },
        {
            "cell_type": "code",
            "execution_count": 6,
            "metadata": {},
            "outputs": [
                {
                    "data": {
                        "text/plain": [
                            "<matplotlib.image.AxesImage at 0x2448b9ac190>"
                        ]
                    },
                    "execution_count": 6,
                    "metadata": {},
                    "output_type": "execute_result"
                },
                {
                    "data": {
                        "image/png": "[encoded data removed]",
                        "text/plain": [
                            "<Figure size 640x480 with 1 Axes>"
                        ]
                    },
                    "metadata": {},
                    "output_type": "display_data"
                }
            ],
            "source": [
                "plt.imshow(pic.squeeze().cpu().numpy())"
            ]
        },
        {
            "attachments": {},
            "cell_type": "markdown",
            "metadata": {},
            "source": [
                "### export to onnx"
            ]
        },
        {
            "cell_type": "code",
            "execution_count": 7,
            "metadata": {},
            "outputs": [
                {
                    "name": "stdout",
                    "output_type": "stream",
                    "text": [
                        "================ Diagnostic Run torch.onnx.export version 2.0.1 ================\n",
                        "verbose: False, log level: Level.ERROR\n",
                        "======================= 0 NONE 0 NOTE 0 WARNING 0 ERROR ========================\n",
                        "\n"
                    ]
                }
            ],
            "source": [
                "batch_size = 10\n",
                "\n",
                "net.cpu().eval()\n",
                "x = torch.randn(batch_size, 1, 28, 28, requires_grad=True)\n",
                "torch_out = net(x)\n",
                "\n",
                "torch.onnx.export(\n",
                "    net,\n",
                "    x,\n",
                "    \"./ResNet18-digits.onnx\", \n",
                "    export_params=True,\n",
                "    do_constant_folding=True,\n",
                "    input_names=['input'],\n",
                "    output_names=['output'],\n",
                "    dynamic_axes={\n",
                "        'input': {0: 'batch_size'},\n",
                "        'output': {0: 'batch_size'}\n",
                "    }\n",
                ")"
            ]
        },
        {
            "attachments": {},
            "cell_type": "markdown",
            "metadata": {},
            "source": [
                "### check onnx"
            ]
        },
        {
            "cell_type": "code",
            "execution_count": 8,
            "metadata": {},
            "outputs": [],
            "source": [
                "import onnx\n",
                "\n",
                "onnx_model = onnx.load('./ResNet18-digits.onnx')\n",
                "onnx.checker.check_model(onnx_model)"
            ]
        },
        {
            "cell_type": "code",
            "execution_count": 9,
            "metadata": {},
            "outputs": [
                {
                    "name": "stdout",
                    "output_type": "stream",
                    "text": [
                        "Exported model has been tested with ONNXRuntime, and the result looks good!\n"
                    ]
                }
            ],
            "source": [
                "import onnxruntime\n",
                "\n",
                "ort_session = onnxruntime.InferenceSession(\"./ResNet18-digits.onnx\")\n",
                "\n",
                "def to_numpy(tensor):\n",
                "    return tensor.detach().cpu().numpy() if tensor.requires_grad else tensor.cpu().numpy()\n",
                "\n",
                "# compute ONNX Runtime output prediction\n",
                "ort_inputs = {ort_session.get_inputs()[0].name: to_numpy(x)}\n",
                "ort_outs = ort_session.run(None, ort_inputs)\n",
                "\n",
                "# compare ONNX Runtime and PyTorch results\n",
                "np.testing.assert_allclose(to_numpy(torch_out), ort_outs[0], rtol=1e-03, atol=1e-05)\n",
                "\n",
                "print(\"Exported model has been tested with ONNXRuntime, and the result looks good!\")"
            ]
        },
        {
            "attachments": {},
            "cell_type": "markdown",
            "metadata": {},
            "source": [
                "### reference\n",
                "\n",
                "https://pytorch.org/tutorials/advanced/super_resolution_with_onnxruntime.html"
            ]
        }
    ],
    "metadata": {
        "kernelspec": {
            "display_name": "kusa",
            "language": "python",
            "name": "python3"
        },
        "language_info": {
            "codemirror_mode": {
                "name": "ipython",
                "version": 3
            },
            "file_extension": ".py",
            "mimetype": "text/x-python",
            "name": "python",
            "nbconvert_exporter": "python",
            "pygments_lexer": "ipython3",
            "version": "3.9.13"
        },
        "orig_nbformat": 4
    },
    "nbformat": 4,
    "nbformat_minor": 2
}
