{
 "cells": [
  {
   "cell_type": "code",
   "execution_count": 43,
   "metadata": {},
   "outputs": [],
   "source": [
    "import numpy as np\n",
    "import torch\n",
    "import torch.nn as nn\n",
    "from torch.autograd import Variable\n",
    "from torch.utils.data import DataLoader\n",
    "from torchvision import models\n",
    "from torchvision import transforms as tfs\n",
    "from torchvision.datasets import mnist\n",
    "import cv2\n",
    "\n",
    "import os\n",
    "import matplotlib.pyplot as plt"
   ]
  },
  {
   "cell_type": "code",
   "execution_count": 44,
   "metadata": {},
   "outputs": [],
   "source": [
    "tf = tfs.Compose([\n",
    "    tfs.RandomInvert(0.5),\n",
    "    tfs.ToTensor(),\n",
    "    tfs.ToPILImage()\n",
    "])\n",
    "\n",
    "train_set = mnist.MNIST('./train_data/', train=True, download=True)\n",
    "test_set = mnist.MNIST('./train_data/', train=False, transform=tf, download=True)"
   ]
  },
  {
   "cell_type": "code",
   "execution_count": 49,
   "metadata": {},
   "outputs": [],
   "source": [
    "for i in range(100):\n",
    "    filepath = '../picture-example/'\n",
    "    f, l = test_set[i]\n",
    "    f = np.array(f)\n",
    "    cv2.imwrite(filepath+'example'+str(i+1)+'.png', f)"
   ]
  }
 ],
 "metadata": {
  "kernelspec": {
   "display_name": "kusa",
   "language": "python",
   "name": "python3"
  },
  "language_info": {
   "codemirror_mode": {
    "name": "ipython",
    "version": 3
   },
   "file_extension": ".py",
   "mimetype": "text/x-python",
   "name": "python",
   "nbconvert_exporter": "python",
   "pygments_lexer": "ipython3",
   "version": "3.9.13"
  },
  "orig_nbformat": 4
 },
 "nbformat": 4,
 "nbformat_minor": 2
}
